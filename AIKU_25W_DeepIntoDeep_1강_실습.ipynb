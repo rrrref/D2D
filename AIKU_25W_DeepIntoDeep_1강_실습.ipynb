{
  "cells": [
    {
      "cell_type": "code",
      "execution_count": 5,
      "metadata": {
        "id": "TBYmCuIoSMQa"
      },
      "outputs": [],
      "source": [
        "import torch\n",
        "import numpy as np\n",
        "%matplotlib inline"
      ]
    },
    {
      "cell_type": "markdown",
      "metadata": {
        "id": "JhE4B85SSMQd"
      },
      "source": [
        "\n",
        "# 텐서(Tensor)\n",
        "\n",
        "텐서(tensor)는 배열(array)이나 행렬(matrix)과 매우 유사한 특수한 자료구조입니다.\n",
        "PyTorch에서는 텐서를 사용하여 모델의 입력(input)과 출력(output), 그리고 모델의 매개변수들을 부호화(encode)합니다.\n",
        "\n",
        "텐서는 GPU나 다른 하드웨어 가속기에서 실행할 수 있다는 점만 제외하면 [NumPy](https://numpy.org) 의 ndarray와 유사합니다.\n",
        "\n",
        "\n",
        "텐서는 또한 자동 미분(automatic differentiation, 즉 AutoGrad)에 최적화되어 있습니다.\n",
        "\n",
        "\n",
        "ndarray에 익숙하다면 Tensor API를 바로 사용할 수 있을 것입니다. 아니라면, 아래 내용을 함께 보시죠!\n"
      ]
    },
    {
      "cell_type": "markdown",
      "metadata": {
        "id": "hJx0beYrSMQf"
      },
      "source": [
        "## 텐서(tensor) 초기화\n",
        "\n",
        "텐서는 여러가지 방법으로 초기화할 수 있습니다.\n",
        "\n",
        "**데이터로부터 직접(directly) 생성하기**\n",
        "\n",
        "데이터로부터 직접 텐서를 생성할 수 있습니다. 데이터의 자료형(data type)은 자동으로 유추합니다.\n",
        "\n"
      ]
    },
    {
      "cell_type": "code",
      "execution_count": null,
      "metadata": {
        "id": "s7z5UH8WSMQg",
        "colab": {
          "base_uri": "https://localhost:8080/"
        },
        "outputId": "17c0508f-b07a-4742-d4fa-5ce89377da14"
      },
      "outputs": [
        {
          "output_type": "execute_result",
          "data": {
            "text/plain": [
              "tensor([[1, 2],\n",
              "        [3, 4]])"
            ]
          },
          "metadata": {},
          "execution_count": 2
        }
      ],
      "source": [
        "data = [[1, 2],[3, 4]]\n",
        "x_data = torch.tensor(data)\n",
        "x_data"
      ]
    },
    {
      "cell_type": "markdown",
      "metadata": {
        "id": "mdNS5v70SMQg"
      },
      "source": [
        "**NumPy 배열로부터 생성하기**\n",
        "\n",
        "텐서는 NumPy 배열로 생성할 수 있습니다.\n",
        "\n"
      ]
    },
    {
      "cell_type": "code",
      "execution_count": null,
      "metadata": {
        "id": "M6vgOdSjSMQg",
        "colab": {
          "base_uri": "https://localhost:8080/"
        },
        "outputId": "39210c47-8beb-40a7-9496-cbc95e3f512a"
      },
      "outputs": [
        {
          "output_type": "execute_result",
          "data": {
            "text/plain": [
              "tensor([[1, 2],\n",
              "        [3, 4]])"
            ]
          },
          "metadata": {},
          "execution_count": 5
        }
      ],
      "source": [
        "np_array = np.array(data)\n",
        "x_np = torch.from_numpy(np_array)\n",
        "x_np"
      ]
    },
    {
      "cell_type": "markdown",
      "metadata": {
        "id": "-LB4p7QiSMQg"
      },
      "source": [
        "**다른 텐서로부터 생성하기:**\n",
        "\n",
        "명시적으로 재정의(override)하지 않는다면, 인자로 주어진 텐서의 속성(모양(shape), 자료형(datatype))을 유지합니다.\n",
        "\n"
      ]
    },
    {
      "cell_type": "code",
      "execution_count": null,
      "metadata": {
        "id": "auczBBwrSMQh",
        "colab": {
          "base_uri": "https://localhost:8080/"
        },
        "outputId": "cec396e5-6593-4e3f-afc8-41206271998f"
      },
      "outputs": [
        {
          "output_type": "stream",
          "name": "stdout",
          "text": [
            "Ones Tensor: \n",
            " tensor([[1, 1],\n",
            "        [1, 1]]) \n",
            "\n",
            "Random Tensor: \n",
            " tensor([[0.3933, 0.9639],\n",
            "        [0.5856, 0.3925]]) \n",
            "\n"
          ]
        }
      ],
      "source": [
        "x_ones = torch.ones_like(x_data) # x_data의 속성을 유지합니다.\n",
        "print(f\"Ones Tensor: \\n {x_ones} \\n\")\n",
        "\n",
        "x_rand = torch.rand_like(x_data, dtype=torch.float) #x_data, dtype=torch.float x_data의 속성을 덮어씁니다.\n",
        "print(f\"Random Tensor: \\n {x_rand} \\n\")"
      ]
    },
    {
      "cell_type": "markdown",
      "metadata": {
        "id": "8StcQ4wQSMQh"
      },
      "source": [
        "**무작위(random) 또는 상수(constant) 값을 사용하기:**\n",
        "\n",
        "``shape`` 은 텐서의 차원(dimension)을 나타내는 튜플(tuple)로, 아래 함수들에서는 출력 텐서의 차원을 결정합니다.\n",
        "\n"
      ]
    },
    {
      "cell_type": "code",
      "execution_count": null,
      "metadata": {
        "id": "QMLfQVNsSMQh",
        "colab": {
          "base_uri": "https://localhost:8080/"
        },
        "outputId": "2da2015d-67fd-49de-c9c1-d0c86c4cbff9"
      },
      "outputs": [
        {
          "output_type": "stream",
          "name": "stdout",
          "text": [
            "Random Tensor: \n",
            " tensor([[0.7128, 0.5919, 0.4444],\n",
            "        [0.1492, 0.4843, 0.4244]]) \n",
            "\n",
            "Ones Tensor: \n",
            " tensor([[1., 1., 1.],\n",
            "        [1., 1., 1.]]) \n",
            "\n",
            "Zeros Tensor: \n",
            " tensor([[0., 0., 0.],\n",
            "        [0., 0., 0.]])\n"
          ]
        }
      ],
      "source": [
        "shape = (2,3,)\n",
        "rand_tensor = torch.rand(shape)\n",
        "ones_tensor = torch.ones(shape)\n",
        "zeros_tensor = torch.zeros(shape)\n",
        "\n",
        "print(f\"Random Tensor: \\n {rand_tensor} \\n\")\n",
        "print(f\"Ones Tensor: \\n {ones_tensor} \\n\")\n",
        "print(f\"Zeros Tensor: \\n {zeros_tensor}\")"
      ]
    },
    {
      "cell_type": "markdown",
      "metadata": {
        "id": "A3yaB1fZSMQh"
      },
      "source": [
        "--------------\n",
        "\n",
        "\n"
      ]
    },
    {
      "cell_type": "markdown",
      "metadata": {
        "id": "bwNbQyz6SMQi"
      },
      "source": [
        "## 텐서의 속성(Attribute)\n",
        "\n",
        "텐서의 속성은 텐서의 모양(shape), 자료형(datatype) 및 어느 장치에 저장되는지를 나타냅니다.\n",
        "\n"
      ]
    },
    {
      "cell_type": "code",
      "execution_count": null,
      "metadata": {
        "id": "DOpR_oXaSMQi",
        "colab": {
          "base_uri": "https://localhost:8080/"
        },
        "outputId": "af93d868-015d-4aab-8ef7-7207b771427e"
      },
      "outputs": [
        {
          "output_type": "stream",
          "name": "stdout",
          "text": [
            "Shape of tensor: torch.Size([3, 4])\n",
            "Datatype of tensor: torch.float32\n",
            "Device tensor is stored on: cpu\n"
          ]
        }
      ],
      "source": [
        "tensor = torch.rand(3,4)\n",
        "\n",
        "print(f\"Shape of tensor: {tensor.shape}\")\n",
        "print(f\"Datatype of tensor: {tensor.dtype}\")\n",
        "print(f\"Device tensor is stored on: {tensor.device}\")"
      ]
    },
    {
      "cell_type": "markdown",
      "metadata": {
        "id": "XNnvCZuZSMQi"
      },
      "source": [
        "--------------\n",
        "\n",
        "\n"
      ]
    },
    {
      "cell_type": "markdown",
      "metadata": {
        "id": "QQUYlH1NSMQi"
      },
      "source": [
        "## 텐서 연산(Operation)\n",
        "\n",
        "전치(transposing), 인덱싱(indexing), 슬라이싱(slicing), 수학 계산, 선형 대수,\n",
        "랜덤 샘플링 등, 100가지 이상의 텐서 연산들을\n",
        "[여기](https://pytorch.org/docs/stable/torch.html) 에서 확인할 수 있습니다.\n",
        "\n",
        "각 연산들은 (일반적으로 CPU보다 빠른) GPU에서 실행할 수 있습니다. Colab을 사용한다면,\n",
        "런타임 > 런타임 유형 변경 에서 GPU를 할당할 수 있습니다.\n",
        "\n",
        "기본적으로 텐서는 CPU에 생성됩니다. ``.to`` 메소드를 사용하면 (GPU가 사용 가능한 지를 확인한 뒤)\n",
        "GPU로 텐서를 명시적으로 이동할 수 있습니다. 장치들 간에 큰 텐서들을 복사하는 것은 시간과 메모리 측면에서 비용이\n",
        "많이든다는 것을 기억하세요!\n",
        "\n"
      ]
    },
    {
      "cell_type": "code",
      "execution_count": 4,
      "metadata": {
        "id": "Txv_Q681SMQi",
        "colab": {
          "base_uri": "https://localhost:8080/",
          "height": 219
        },
        "outputId": "d96fa17e-b63b-4496-ccdb-b22cc3d5c3a1"
      },
      "outputs": [
        {
          "output_type": "error",
          "ename": "NameError",
          "evalue": "name 'tensor' is not defined",
          "traceback": [
            "\u001b[0;31m---------------------------------------------------------------------------\u001b[0m",
            "\u001b[0;31mNameError\u001b[0m                                 Traceback (most recent call last)",
            "\u001b[0;32m/tmp/ipython-input-4-3421881617.py\u001b[0m in \u001b[0;36m<cell line: 0>\u001b[0;34m()\u001b[0m\n\u001b[1;32m      1\u001b[0m \u001b[0;31m# GPU가 존재하면 텐서를 이동합니다\u001b[0m\u001b[0;34m\u001b[0m\u001b[0;34m\u001b[0m\u001b[0m\n\u001b[1;32m      2\u001b[0m \u001b[0;32mif\u001b[0m \u001b[0mtorch\u001b[0m\u001b[0;34m.\u001b[0m\u001b[0mcuda\u001b[0m\u001b[0;34m.\u001b[0m\u001b[0mis_available\u001b[0m\u001b[0;34m(\u001b[0m\u001b[0;34m)\u001b[0m\u001b[0;34m:\u001b[0m\u001b[0;34m\u001b[0m\u001b[0;34m\u001b[0m\u001b[0m\n\u001b[0;32m----> 3\u001b[0;31m     \u001b[0mtensor\u001b[0m \u001b[0;34m=\u001b[0m \u001b[0mtensor\u001b[0m\u001b[0;34m.\u001b[0m\u001b[0mto\u001b[0m\u001b[0;34m(\u001b[0m\u001b[0;34m\"cuda\"\u001b[0m\u001b[0;34m)\u001b[0m\u001b[0;34m\u001b[0m\u001b[0;34m\u001b[0m\u001b[0m\n\u001b[0m\u001b[1;32m      4\u001b[0m \u001b[0;34m\u001b[0m\u001b[0m\n\u001b[1;32m      5\u001b[0m \u001b[0mprint\u001b[0m\u001b[0;34m(\u001b[0m\u001b[0mtensor\u001b[0m\u001b[0;34m.\u001b[0m\u001b[0mdevice\u001b[0m\u001b[0;34m)\u001b[0m\u001b[0;34m\u001b[0m\u001b[0;34m\u001b[0m\u001b[0m\n",
            "\u001b[0;31mNameError\u001b[0m: name 'tensor' is not defined"
          ]
        }
      ],
      "source": [
        "# GPU가 존재하면 텐서를 이동합니다\n",
        "if torch.cuda.is_available():\n",
        "    tensor = tensor.to(\"cuda\")\n",
        "\n",
        "print(tensor.device)"
      ]
    },
    {
      "cell_type": "markdown",
      "metadata": {
        "id": "h7ZlbYEnSMQi"
      },
      "source": [
        "목록에서 몇몇 연산들을 시도해보세요.\n",
        "\n"
      ]
    },
    {
      "cell_type": "markdown",
      "metadata": {
        "id": "4r_7tZB2SMQi"
      },
      "source": [
        "**NumPy식의 표준 인덱싱과 슬라이싱:**\n",
        "\n"
      ]
    },
    {
      "cell_type": "code",
      "execution_count": null,
      "metadata": {
        "id": "iupVna7bSMQi",
        "colab": {
          "base_uri": "https://localhost:8080/"
        },
        "outputId": "588f9cf6-a4ea-4fc6-a131-cb8f27ba79e0"
      },
      "outputs": [
        {
          "output_type": "stream",
          "name": "stdout",
          "text": [
            "First row: tensor([1., 1., 1., 1.])\n",
            "First column: tensor([1., 1., 1., 1.])\n",
            "Last column: tensor([1., 1., 1., 1.])\n",
            "tensor([[1., 0., 1., 1.],\n",
            "        [1., 0., 1., 1.],\n",
            "        [1., 0., 1., 1.],\n",
            "        [1., 0., 1., 1.]])\n"
          ]
        }
      ],
      "source": [
        "tensor = torch.ones(4, 4)\n",
        "print(f\"First row: {tensor[0]}\")\n",
        "print(f\"First column: {tensor[:,0]}\")\n",
        "print(f\"Last column: {tensor[..., -1]}\")\n",
        "tensor[:,1] = 0\n",
        "print(tensor)"
      ]
    },
    {
      "cell_type": "markdown",
      "metadata": {
        "id": "WEX-y3GkSMQi"
      },
      "source": [
        "**텐서 합치기** ``torch.cat`` 을 사용하여 주어진 차원에 따라 일련의 텐서를 연결할 수 있습니다.\n"
      ]
    },
    {
      "cell_type": "code",
      "execution_count": null,
      "metadata": {
        "id": "0hLflqJLSMQi",
        "colab": {
          "base_uri": "https://localhost:8080/"
        },
        "outputId": "5fe83183-a19f-47ec-814c-1bcca6dccf93"
      },
      "outputs": [
        {
          "output_type": "stream",
          "name": "stdout",
          "text": [
            "torch.Size([3, 4])\n",
            "torch.Size([3, 12])\n",
            "torch.Size([3, 12])\n",
            "tensor([[1., 1., 1., 1.],\n",
            "        [1., 1., 1., 1.],\n",
            "        [1., 1., 1., 1.]])\n",
            "tensor([[1., 1., 1., 1., 1., 1., 1., 1., 1., 1., 1., 1.],\n",
            "        [1., 1., 1., 1., 1., 1., 1., 1., 1., 1., 1., 1.],\n",
            "        [1., 1., 1., 1., 1., 1., 1., 1., 1., 1., 1., 1.]])\n"
          ]
        }
      ],
      "source": [
        "tensor = torch.ones(3, 4)\n",
        "print(tensor.shape)\n",
        "t1 = torch.cat((tensor, tensor,tensor), dim=1)\n",
        "print(t1.shape)\n",
        "\n",
        "print(tensor)\n",
        "print(t1)"
      ]
    },
    {
      "cell_type": "markdown",
      "source": [
        "**텐서 차원 조작하기** ``.permute()``, ``.reshape()``,``.flatten()`` 등을 사용하여 주어진 차원에 따라 일련의 텐서를 조작 할 수 있습니다.\n",
        "\n",
        "\n",
        "\n",
        "\n",
        "\n"
      ],
      "metadata": {
        "id": "UDR19Zf0mCTa"
      }
    },
    {
      "cell_type": "code",
      "source": [
        "tensor = torch.ones(2, 3, 4)\n",
        "tensor_per = tensor.permute(0,2,1)\n",
        "print(tensor_per.shape)\n",
        "tensor_flatten = tensor.flatten(0,2)\n",
        "print(tensor_flatten.shape)\n",
        "tensor_reshape = tensor.reshape(-1,12)\n",
        "print(tensor_reshape.shape)"
      ],
      "metadata": {
        "id": "Ado-HU8ZmMQ0",
        "colab": {
          "base_uri": "https://localhost:8080/"
        },
        "outputId": "b9d0947c-f4c2-4dfa-b885-3a47d6b749b8"
      },
      "execution_count": null,
      "outputs": [
        {
          "output_type": "stream",
          "name": "stdout",
          "text": [
            "torch.Size([2, 4, 3])\n",
            "torch.Size([24])\n",
            "torch.Size([2, 12])\n"
          ]
        }
      ]
    },
    {
      "cell_type": "markdown",
      "metadata": {
        "id": "NVnH30zPSMQj"
      },
      "source": [
        "**산술 연산(Arithmetic operations)**\n",
        "\n"
      ]
    },
    {
      "cell_type": "code",
      "execution_count": 11,
      "metadata": {
        "id": "g9cVOkmfSMQj",
        "colab": {
          "base_uri": "https://localhost:8080/"
        },
        "outputId": "b5b16348-cc6e-4d0a-9b41-08ba260e02b4"
      },
      "outputs": [
        {
          "output_type": "stream",
          "name": "stdout",
          "text": [
            "tensor([[4., 4., 4., 4.],\n",
            "        [4., 4., 4., 4.],\n",
            "        [4., 4., 4., 4.],\n",
            "        [4., 4., 4., 4.]]) tensor([[4., 4., 4., 4.],\n",
            "        [4., 4., 4., 4.],\n",
            "        [4., 4., 4., 4.],\n",
            "        [4., 4., 4., 4.]])\n",
            "tensor([[1., 1., 1., 1.],\n",
            "        [1., 1., 1., 1.],\n",
            "        [1., 1., 1., 1.],\n",
            "        [1., 1., 1., 1.]])\n"
          ]
        }
      ],
      "source": [
        "# 두 텐서 간의 행렬 곱(matrix multiplication)을 계산합니다. y1, y2은 모두 같은 값을 갖습니다.\n",
        "# ``tensor.T`` 는 텐서의 전치(transpose)를 반환합니다.\n",
        "tensor = torch.ones(4, 4)\n",
        "\n",
        "y1 = tensor@tensor\n",
        "y2 = tensor.matmul(tensor)\n",
        "\n",
        "print(y1, y2)\n",
        "# 요소별 곱(element-wise product)을 계산합니다.\n",
        "z3 = tensor* tensor\n",
        "print(z3)"
      ]
    },
    {
      "cell_type": "markdown",
      "metadata": {
        "id": "287H18GmSMQj"
      },
      "source": [
        "**단일-요소(single-element) 텐서** 텐서의 모든 값을 하나로 집계(aggregate)하여\n",
        "\n",
        "1.   항목 추가\n",
        "2.   항목 추가\n",
        "\n",
        "요소가 하나인 텐서의 경우,\n",
        "``item()`` 을 사용하여 Python 숫자 값으로 변환할 수 있습니다:\n",
        "\n"
      ]
    },
    {
      "cell_type": "code",
      "execution_count": 16,
      "metadata": {
        "id": "H-qnNXPOSMQj",
        "colab": {
          "base_uri": "https://localhost:8080/"
        },
        "outputId": "f20ec7bf-48d8-4bc7-e8e0-dc42c7153eb7"
      },
      "outputs": [
        {
          "output_type": "stream",
          "name": "stdout",
          "text": [
            "16.0 <class 'float'>\n"
          ]
        }
      ],
      "source": [
        "agg = tensor.sum(dim=1)\n",
        "\n",
        "agg_item=0\n",
        "for scalar in agg:\n",
        "    agg_item += scalar.item()\n",
        "print(agg_item, type(agg_item))\n",
        "\n",
        "# dimension 추가\n"
      ]
    },
    {
      "cell_type": "markdown",
      "metadata": {
        "id": "hurB-T5iSMQj"
      },
      "source": [
        "--------------\n",
        "\n",
        "\n"
      ]
    },
    {
      "cell_type": "code",
      "source": [],
      "metadata": {
        "id": "YQ4WEuOwcCHc"
      },
      "execution_count": null,
      "outputs": []
    },
    {
      "cell_type": "markdown",
      "source": [
        "# Autograd\n",
        "\n",
        "## ``torch.autograd`` 를 사용한 자동 미분\n",
        "\n",
        "모델을 학습할 때 가장 자주 사용되는 알고리즘은 **역전파(Backpropagation)** 입니다. 이 알고리즘에서,\n",
        "파라미터(모델 Weight)는 주어진 매개변수에 대한 Loss function의 **Gradient** 에\n",
        "따라 조정됩니다.\n",
        "\n",
        "이러한 변화도를 계산하기 위해 PyTorch에는 ``torch.autograd`` 라고 불리는 자동 미분 엔진이\n",
        "내장되어 있습니다. 이는 모든 계산 그래프에 대한 Gradient의 자동 계산을 지원합니다.\n",
        "![image.png](data:image/png;base64,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)"
      ],
      "metadata": {
        "id": "rObv-VIAS3Cz"
      }
    },
    {
      "cell_type": "code",
      "source": [
        "x = torch.ones(5)  # input tensor\n",
        "y = torch.zeros(3)  # expected output\n",
        "w = torch.randn(5, 3, requires_grad=True)\n",
        "b = torch.randn(3, requires_grad=True)\n",
        "z = torch.matmul(x, w)+b\n",
        "loss = ((z - y) ** 2).mean()\n",
        "print(x)\n",
        "print(y)\n",
        "print(w)\n",
        "print(b)\n",
        "print(z)"
      ],
      "metadata": {
        "id": "_vPAGZ4uS5hT",
        "colab": {
          "base_uri": "https://localhost:8080/"
        },
        "outputId": "7aef6a79-9d4c-4fe8-c9cf-2f96f10108b3"
      },
      "execution_count": null,
      "outputs": [
        {
          "output_type": "stream",
          "name": "stdout",
          "text": [
            "tensor([1., 1., 1., 1., 1.])\n",
            "tensor([0., 0., 0.])\n",
            "tensor([[ 5.1717e-01, -2.4749e-01,  6.4992e-01],\n",
            "        [ 6.9970e-01,  9.7103e-01,  1.0585e+00],\n",
            "        [-1.1148e+00,  1.0839e+00, -4.7422e-02],\n",
            "        [-2.1493e+00,  2.1176e-01, -1.5232e+00],\n",
            "        [-1.0356e+00, -1.1350e-04,  1.5591e-01]], requires_grad=True)\n",
            "tensor([ 0.3969, -1.4743,  1.8126], requires_grad=True)\n",
            "tensor([-2.6859,  0.5448,  2.1063], grad_fn=<AddBackward0>)\n"
          ]
        }
      ]
    },
    {
      "cell_type": "code",
      "source": [
        "loss.backward()\n",
        "print(x.grad)\n",
        "print(w.grad)"
      ],
      "metadata": {
        "id": "VerVFcXgTJNz",
        "colab": {
          "base_uri": "https://localhost:8080/"
        },
        "outputId": "8f7fb68f-2b8d-4cdd-8c8e-ce854f26ff82"
      },
      "execution_count": null,
      "outputs": [
        {
          "output_type": "stream",
          "name": "stdout",
          "text": [
            "None\n",
            "tensor([[-1.7906,  0.3632,  1.4042],\n",
            "        [-1.7906,  0.3632,  1.4042],\n",
            "        [-1.7906,  0.3632,  1.4042],\n",
            "        [-1.7906,  0.3632,  1.4042],\n",
            "        [-1.7906,  0.3632,  1.4042]])\n"
          ]
        }
      ]
    },
    {
      "cell_type": "markdown",
      "source": [
        "모든 텐서는 ``requires_grad=False``로 설정되며, ``x``는 따로 이를 설정해두지 않았기 때문에, ``loss.backward()`` 이후에도 `x.grad`가 생성되지 않습니다.  ``requires_grad`` 의 값은 텐서를 생성할 때 설정하거나, 나중에``x.requires_grad_(True)`` 메소드를 사용하여 나중에 설정할 수도 있습니다.\n"
      ],
      "metadata": {
        "id": "HhyyDIHZynCB"
      }
    },
    {
      "cell_type": "code",
      "source": [
        "x = torch.ones(5, requires_grad = True)  # input tensor, Requires_grad\n",
        "y = torch.zeros(3)  # expected output\n",
        "w = torch.randn(5, 3, requires_grad=True)\n",
        "b = torch.randn(3, requires_grad=True)\n",
        "z = torch.matmul(x, w)+b\n",
        "loss = ((z - y) ** 2).mean()"
      ],
      "metadata": {
        "id": "cYlwvrpsTkhw"
      },
      "execution_count": null,
      "outputs": []
    },
    {
      "cell_type": "code",
      "source": [
        "loss.backward()\n",
        "print(x.grad)"
      ],
      "metadata": {
        "id": "kLhm0tyPTp6h",
        "colab": {
          "base_uri": "https://localhost:8080/"
        },
        "outputId": "9cc15635-52c1-498d-99f4-8d107d760282"
      },
      "execution_count": null,
      "outputs": [
        {
          "output_type": "stream",
          "name": "stdout",
          "text": [
            "tensor([ 1.6149,  1.2117, -1.0527, -0.1450,  0.0159])\n"
          ]
        }
      ]
    },
    {
      "cell_type": "markdown",
      "source": [
        "Note :\n",
        "연산 그래프를 구성하기 위해 텐서에 적용하는 함수는 사실 ``Function`` 클래스의 객체입니다.\n",
        "이 객체는 *순전파* 방향으로 함수를 계산하는 방법과, *역방향 전파* 단계에서 도함수(derivative)를\n",
        "계산하는 방법을 알고 있습니다. 역방향 전파 함수에 대한 참조(reference)는 텐서의 ``grad_fn``\n",
        "속성에 저장됩니다. ``Function`` 에 대한 자세한 정보는\n",
        "[이 문서](https://pytorch.org/docs/stable/autograd.html#function)_\n",
        "에서 찾아볼 수 있습니다.\n",
        "\n",
        "\n",
        "\n"
      ],
      "metadata": {
        "id": "yL95D0YeUZfg"
      }
    },
    {
      "cell_type": "code",
      "source": [
        "print(f\"Gradient function for z = {z.grad_fn}\")\n",
        "print(f\"Gradient function for loss = {loss.grad_fn}\")"
      ],
      "metadata": {
        "id": "ytcVnPXjUYrE",
        "colab": {
          "base_uri": "https://localhost:8080/"
        },
        "outputId": "9297c8b7-2ea1-4dee-cb2c-54604cf4fa71"
      },
      "execution_count": null,
      "outputs": [
        {
          "output_type": "stream",
          "name": "stdout",
          "text": [
            "Gradient function for z = <AddBackward0 object at 0x7bda52b15a80>\n",
            "Gradient function for loss = <MeanBackward0 object at 0x7bda52b15c00>\n"
          ]
        }
      ]
    },
    {
      "cell_type": "markdown",
      "source": [
        "## Gradient 추적 멈추기\n",
        "\n",
        "기본적으로, ``requires_grad=True`` 인 모든 텐서들은 연산 기록을 추적하고 변화도 계산을\n",
        "지원합니다. 그러나 모델을 학습한 뒤 입력 데이터를 단순히 적용하기만 하는 경우와 같이 *순전파*\n",
        "연산만 필요한 경우에는, 이러한 추적이나 지원이 필요 없을 수 있습니다.\n",
        "연산 코드를 ``torch.no_grad()`` 블록으로 둘러싸서 연산 추적을 멈출 수 있습니다:\n",
        "\n",
        "\n"
      ],
      "metadata": {
        "id": "T8S9PSnxU_uY"
      }
    },
    {
      "cell_type": "code",
      "source": [
        "z = torch.matmul(x, w)+b\n",
        "print(z.requires_grad)\n",
        "\n",
        "with torch.no_grad():\n",
        "    z=torch.matmul(x,w)+b\n",
        "print(z.requires_grad)"
      ],
      "metadata": {
        "id": "rzehmB3VUj9l",
        "colab": {
          "base_uri": "https://localhost:8080/"
        },
        "outputId": "1703fa3f-af6a-48b9-fde8-38512bd5230b"
      },
      "execution_count": null,
      "outputs": [
        {
          "output_type": "stream",
          "name": "stdout",
          "text": [
            "True\n",
            "False\n"
          ]
        }
      ]
    },
    {
      "cell_type": "markdown",
      "source": [
        "혹은, ``.detach()``를 사용해도 동일한 결과를 얻을 수 있습니다."
      ],
      "metadata": {
        "id": "mtx_WNiEVDrQ"
      }
    },
    {
      "cell_type": "code",
      "source": [
        "z = torch.matmul(x, w)+b\n",
        "z_det = z.detach()\n",
        "print(z_det)"
      ],
      "metadata": {
        "id": "H9Xg2QpQVBSB",
        "colab": {
          "base_uri": "https://localhost:8080/"
        },
        "outputId": "e6034d6a-0d00-40ab-d85c-c4b847755127"
      },
      "execution_count": null,
      "outputs": [
        {
          "output_type": "stream",
          "name": "stdout",
          "text": [
            "tensor([ 1.0562,  0.9145, -2.2178])\n"
          ]
        }
      ]
    },
    {
      "cell_type": "markdown",
      "source": [
        "변화도 추적을 멈춰야 하는 이유들은 다음과 같습니다:\n",
        "  - 일부 매개변수를 **고정된 매개변수(frozen parameter)** 로 사용하여, 학습 시 업데이트 되지 않도록 합니다.\n",
        "  - 변화도를 추적하지 않는 텐서의 연산이 더 효율적이기 때문에, 순전파 단계만 수행할 때\n",
        "    **연산 속도가 향상됩니다.**\n"
      ],
      "metadata": {
        "id": "N0cJGvU6VKJu"
      }
    },
    {
      "cell_type": "markdown",
      "source": [
        "## 연산 그래프에 대한 추가 정보\n",
        "\n",
        "개념적으로, autograd는 실행된 모든 연산들의 기록을 [Function](https://pytorch.org/docs/stable/autograd.html#torch.autograd.Function)_ 객체로\n",
        "구성된 방향성 비순환 그래프(DAG; Directed Acyclic Graph)에 저장합니다.\n",
        "이 방향성 비순환 그래프(DAG)의 리프 노드는 입력 텐서이고, 루트 노드는 결과 텐서입니다.\n",
        "이 그래프를 루트에서부터 리프까지 추적하면 연쇄 법칙에 따라 변화도를 자동으로 계산할 수 있습니다.\n",
        "\n",
        "순전파 단계에서, autograd는 다음 두 가지 작업을 동시에 수행합니다:\n",
        "\n",
        "- 요청된 연산을 수행하여 결과 텐서를 계산하고,\n",
        "- DAG에 연산의 Gradient Function을 유지합니다.\n",
        "\n",
        "역전파 단계는 DAG 루트에서 ``.backward()`` 가 호출될 때 시작됩니다. ``autograd`` 는 이 때:\n",
        "\n",
        "- 각 ``.grad_fn`` 으로부터 Gradient를 계산하고,\n",
        "- 각 텐서의 ``.grad`` 속성에 계산 결과를 쌓고(accumulate),\n",
        "- 연쇄 법칙을 사용하여, 모든 리프 텐서들까지 전파(propagate)합니다.\n",
        "\n",
        "동일한 인자로 ``backward`` 를 두차례 호출하면 변화도 값이 달라집니다.\n",
        "이는 ``역방향`` 전파를 수행할 때, PyTorch가 **변화도를 누적(accumulate)해주기 때문**입니다. 즉, 계산된 변화도의 값이 연산 그래프의 모든 리프 노드의 ``grad`` 속성에\n",
        "추가됩니다. **따라서 제대로 된 변화도를 계산하기 위해서는 ``grad`` 속성을 먼저 0으로 만들어야합니다.** 실제 학습 과정에서는 *옵티마이저(optimizer)* 가 이 과정을 도와줍니다.\n",
        "\n",
        "\n"
      ],
      "metadata": {
        "id": "NuPmrPFoVNIT"
      }
    },
    {
      "cell_type": "markdown",
      "source": [
        "# Linear Regression\n",
        "간단한 Linear Regression 모델 훈련 예시를 통해, ML/DL의 전체 학습 파이프라인을 한 번 훑어봅시다."
      ],
      "metadata": {
        "id": "X1OPqWVSWqeI"
      }
    },
    {
      "cell_type": "code",
      "source": [
        "import torch\n",
        "import torch.optim as optim\n",
        "import matplotlib.pyplot as plt\n",
        "\n",
        "# 랜덤 시드 설정 (재현 가능성을 위해)\n",
        "torch.manual_seed(42)\n",
        "\n",
        "# 데이터 생성 함수\n",
        "def generate_data(num_samples=100):\n",
        "    # y = 2x + 1 + noise\n",
        "    x = torch.rand(num_samples, 1) * 10  # 0과 10 사이의 랜덤 값\n",
        "    y = 2 * x + 1 + torch.randn(num_samples, 1) * 2 # 노이즈 추가\n",
        "    return x, y\n",
        "\n",
        "# 데이터 생성 및 시각화\n",
        "x_train, y_train = generate_data()\n",
        "plt.scatter(x_train.numpy(), y_train.numpy(), color='blue')\n",
        "plt.title('Generated Data')\n",
        "plt.xlabel('x')\n",
        "plt.ylabel('y')\n",
        "plt.show()"
      ],
      "metadata": {
        "id": "tJORAl88Wwk7",
        "colab": {
          "base_uri": "https://localhost:8080/",
          "height": 472
        },
        "outputId": "3dad4df8-d016-4ccd-b57c-5b6b42c2a5ef"
      },
      "execution_count": 6,
      "outputs": [
        {
          "output_type": "display_data",
          "data": {
            "text/plain": [
              "<Figure size 640x480 with 1 Axes>"
            ],
            "image/png": "[encoded data removed]"
          },
          "metadata": {}
        }
      ]
    },
    {
      "cell_type": "code",
      "source": [
        "# Loss function 정의 (MSE, Mean Squared Error)\n",
        "def mse_loss(y_pred, y_true):\n",
        "    return ((y_pred-y_true)**2).mean()\n",
        "## torch.nn을 이용하여, 기본 내장되어있는 loss function을 사용할 수도 있습니다.\n",
        "# mse_loss = torch.nn.MSELoss()\n",
        "\n",
        "# 모델 Class 정의\n",
        "class LinearRegressionModel:\n",
        "    def __init__(self):\n",
        "        #w0+w1*x\n",
        "        self.w1 = torch.randn(1,1,requires_grad=True)\n",
        "        self.w0 = torch.randn(1,requires_grad=True)\n",
        "\n",
        "    def forward(self, input):\n",
        "        return input * self.w1 + self.w0"
      ],
      "metadata": {
        "id": "_qw7OWaRXmfI"
      },
      "execution_count": 7,
      "outputs": []
    },
    {
      "cell_type": "code",
      "source": [
        "# 모델 정의\n",
        "model = LinearRegressionModel()\n",
        "\n",
        "# 옵티마이저 정의\n",
        "## Optimizer는 Optimization 단계에서 사용되는 알고리즘을 정의합니다.\n",
        "## Adam, RMSProp, AdamW와 같은 다양한 Optimizer가 있습니다.\n",
        "## SGD의 경우, 첫번째 매개변수로 최적화할 파라미터, 두번째로 learning rate를 인자로 줍니다.\n",
        "optimizer = optim.SGD((model.w1,model.w0),lr=0.01)\n",
        "\n",
        "num_epochs = 4000\n",
        "\n",
        "### 모델 학습\n",
        "\n",
        "for epoch in range(num_epochs):\n",
        "    y_pred = model.forward(x_train)\n",
        "    loss = mse_loss(y_pred, y_train)\n",
        "    optimizer.zero_grad()\n",
        "    loss.backward()\n",
        "    optimizer.step()\n",
        "\n",
        "\n",
        "# 학습된 모델의 예측 값 시각화\n",
        "with torch.no_grad():\n",
        "    predicted = model.forward(x_train)\n",
        "plt.scatter(x_train.numpy(), y_train.numpy(), color='blue', label='Original Data')\n",
        "plt.plot(x_train.numpy(), predicted.numpy(), color='red', label='Fitted Line')\n",
        "plt.title(f'Epoch [{num_epochs}]')\n",
        "plt.xlabel('x')\n",
        "plt.ylabel('y')\n",
        "plt.legend()\n",
        "plt.show()\n",
        "\n",
        "# 학습된 모델의 파라미터\n",
        "print(f'학습된 Weight: {model.w1.item():.4f}, 학습된 Bias: {model.w0.item():.4f}')\n",
        "\n",
        "# 새로운 입력 데이터로 예측\n",
        "x_test = torch.tensor([[5.0]], dtype=torch.float32)\n",
        "predicted = x_test * model.w1 + model.w0\n",
        "print(f'입력 5.0에 대한 예측 값: {predicted.item():.4f}')\n"
      ],
      "metadata": {
        "id": "jwR_qsy_X93D",
        "colab": {
          "base_uri": "https://localhost:8080/",
          "height": 508
        },
        "outputId": "03698a90-6114-48fe-f380-9ccef2cd6ede"
      },
      "execution_count": 9,
      "outputs": [
        {
          "output_type": "display_data",
          "data": {
            "text/plain": [
              "<Figure size 640x480 with 1 Axes>"
            ],
            "image/png": "[encoded data removed]"
          },
          "metadata": {}
        },
        {
          "output_type": "stream",
          "name": "stdout",
          "text": [
            "학습된 Weight: 1.9077, 학습된 Bias: 1.4615\n",
            "입력 5.0에 대한 예측 값: 10.9997\n"
          ]
        }
      ]
    },
    {
      "cell_type": "code",
      "source": [],
      "metadata": {
        "id": "pHPTs3aDS3BC"
      },
      "execution_count": null,
      "outputs": []
    }
  ],
  "metadata": {
    "kernelspec": {
      "display_name": "Python 3",
      "name": "python3"
    },
    "language_info": {
      "codemirror_mode": {
        "name": "ipython",
        "version": 3
      },
      "file_extension": ".py",
      "mimetype": "text/x-python",
      "name": "python",
      "nbconvert_exporter": "python",
      "pygments_lexer": "ipython3",
      "version": "3.10.14"
    },
    "colab": {
      "provenance": [],
      "gpuType": "T4"
    },
    "accelerator": "GPU"
  },
  "nbformat": 4,
  "nbformat_minor": 0
}